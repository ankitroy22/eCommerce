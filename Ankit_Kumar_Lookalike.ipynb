{
 "cells": [
  {
   "cell_type": "code",
   "execution_count": 29,
   "id": "808dbde3-9034-4f1e-8202-73d00fa7a5b9",
   "metadata": {},
   "outputs": [],
   "source": [
    "import pandas as pd\n",
    "from sklearn.metrics.pairwise import cosine_similarity\n",
    "from sklearn.preprocessing import MinMaxScaler"
   ]
  },
  {
   "cell_type": "code",
   "execution_count": 30,
   "id": "32c6a489-8e47-44f3-b0e3-71a23f72bfcb",
   "metadata": {},
   "outputs": [],
   "source": [
    "customers = pd.read_csv('customers.csv')\n",
    "products = pd.read_csv('products.csv')\n",
    "transactions = pd.read_csv('transactions.csv')"
   ]
  },
  {
   "cell_type": "markdown",
   "id": "7c53b9a3-fe50-4afc-a2b9-97d6eb863ea6",
   "metadata": {},
   "source": [
    "## Convert dates to datetime format"
   ]
  },
  {
   "cell_type": "code",
   "execution_count": 31,
   "id": "8bb42323-d4a0-415c-8c18-f168d9651cfe",
   "metadata": {},
   "outputs": [],
   "source": [
    "customers['SignupDate'] = pd.to_datetime(customers['SignupDate'])\n",
    "transactions['TransactionDate'] = pd.to_datetime(transactions['TransactionDate'])"
   ]
  },
  {
   "cell_type": "code",
   "execution_count": 32,
   "id": "beb1c8bb-ffc1-4cf4-85f3-3558d8ce2808",
   "metadata": {},
   "outputs": [],
   "source": [
    "merged_data = transactions.merge(customers, on='CustomerID', how='left')\n",
    "merged_data = merged_data.merge(products, on='ProductID', how='left')"
   ]
  },
  {
   "cell_type": "markdown",
   "id": "26cb98e1-4659-42de-842f-bd120fbf1920",
   "metadata": {},
   "source": [
    "## Feature Engineering"
   ]
  },
  {
   "cell_type": "code",
   "execution_count": 33,
   "id": "450e1884-fb1f-43de-a4c6-eba857d86b78",
   "metadata": {},
   "outputs": [],
   "source": [
    "customer_features = merged_data.groupby('CustomerID').agg(\n",
    "    TotalSpend=('TotalValue', 'sum'),\n",
    "    AvgTransactionValue=('TotalValue', 'mean'),\n",
    "    TotalTransactions=('TransactionID', 'count'),\n",
    "    MostPurchasedCategory=('Category', lambda x: x.value_counts().idxmax())\n",
    ").reset_index()\n"
   ]
  },
  {
   "cell_type": "markdown",
   "id": "6a92eec3-55f2-481b-92e7-a8785fc7bb07",
   "metadata": {},
   "source": [
    "## Encode categorical features"
   ]
  },
  {
   "cell_type": "code",
   "execution_count": 34,
   "id": "467f0871-fe07-4994-83ee-406a941b03ad",
   "metadata": {},
   "outputs": [],
   "source": [
    "customer_features = pd.get_dummies(customer_features, columns=['MostPurchasedCategory'], drop_first=True)"
   ]
  },
  {
   "cell_type": "markdown",
   "id": "e8ac0cdf-58da-47be-b788-589f626ec839",
   "metadata": {},
   "source": [
    "## Normalize features"
   ]
  },
  {
   "cell_type": "code",
   "execution_count": 35,
   "id": "b0a73cec-16ae-4c08-86e1-b6ecfb6f7821",
   "metadata": {},
   "outputs": [],
   "source": [
    "scaler = MinMaxScaler()\n",
    "scaled_features = scaler.fit_transform(customer_features.drop('CustomerID', axis=1))\n"
   ]
  },
  {
   "cell_type": "markdown",
   "id": "c4a13de0-992b-490c-b106-dd8d9f24d0fb",
   "metadata": {},
   "source": [
    "## Compute similarity"
   ]
  },
  {
   "cell_type": "code",
   "execution_count": 36,
   "id": "b729800f-56b5-4317-89da-641d5b5d5347",
   "metadata": {},
   "outputs": [],
   "source": [
    "similarity_matrix = cosine_similarity(scaled_features)"
   ]
  },
  {
   "cell_type": "markdown",
   "id": "23e34fe7-84cc-4ad2-b7e7-a662ed6ca508",
   "metadata": {},
   "source": [
    "## Generate Lookalike Recommendations for the first 20 customers"
   ]
  },
  {
   "cell_type": "code",
   "execution_count": 37,
   "id": "e2d62245-737d-4cac-a7d7-f7435ea1e0d7",
   "metadata": {},
   "outputs": [],
   "source": [
    "lookalike_results = {}\n",
    "first_20_customers = customer_features['CustomerID'][:20]\n",
    "for idx, customer_id in enumerate(first_20_customers):\n",
    "    similar_indices = similarity_matrix[idx].argsort()[::-1][1:4]\n",
    "    similar_customers = customer_features.iloc[similar_indices][['CustomerID']]\n",
    "    similarity_scores = similarity_matrix[idx][similar_indices]\n",
    "    lookalike_results[customer_id] = list(zip(similar_customers['CustomerID'], similarity_scores))\n"
   ]
  },
  {
   "cell_type": "code",
   "execution_count": 40,
   "id": "79c784a8-0444-4797-ae3c-b8f35750b6f4",
   "metadata": {},
   "outputs": [
    {
     "name": "stdout",
     "output_type": "stream",
     "text": [
      "Results saved\n"
     ]
    }
   ],
   "source": [
    "lookalike_df = pd.DataFrame({\n",
    "    'CustomerID': first_20_customers,\n",
    "    'Lookalikes': [lookalike_results[cust_id] for cust_id in first_20_customers]\n",
    "})\n",
    "\n",
    "lookalike_df.to_csv('Ankit_Kumar_Lookalike.csv', index=False)\n",
    "\n",
    "print(\"Results saved\")\n"
   ]
  },
  {
   "cell_type": "code",
   "execution_count": null,
   "id": "4db8a334-abbf-4e99-91f9-119f34c92915",
   "metadata": {},
   "outputs": [],
   "source": []
  },
  {
   "cell_type": "code",
   "execution_count": null,
   "id": "b551dea6-d214-48f6-a624-881c655a2aff",
   "metadata": {},
   "outputs": [],
   "source": []
  }
 ],
 "metadata": {
  "kernelspec": {
   "display_name": "Python 3 (ipykernel)",
   "language": "python",
   "name": "python3"
  },
  "language_info": {
   "codemirror_mode": {
    "name": "ipython",
    "version": 3
   },
   "file_extension": ".py",
   "mimetype": "text/x-python",
   "name": "python",
   "nbconvert_exporter": "python",
   "pygments_lexer": "ipython3",
   "version": "3.12.3"
  }
 },
 "nbformat": 4,
 "nbformat_minor": 5
}
